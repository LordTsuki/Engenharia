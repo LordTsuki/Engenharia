{
 "cells": [
  {
   "cell_type": "code",
   "execution_count": 2,
   "metadata": {},
   "outputs": [],
   "source": [
    "class MyComplexNumber:\n",
    "    # Constructor methods\n",
    "    def __init__(self,real = 0,imag = 0):\n",
    "        print(\"MyComplexNumber constructor executing...\")\n",
    "        self.real_part = real\n",
    "        self.imag_part = imag\n",
    "\n",
    "    def displayComplex(self):\n",
    "        print(\"{0} + {1}j\".format(self.real_part,self.imag_part))"
   ]
  },
  {
   "cell_type": "code",
   "execution_count": 3,
   "metadata": {},
   "outputs": [
    {
     "name": "stdout",
     "output_type": "stream",
     "text": [
      "MyComplexNumber constructor executing...\n",
      "40 + 50j\n"
     ]
    }
   ],
   "source": [
    "# Create a new object against MyComplexNumber class\n",
    "cmplx1 = MyComplexNumber(40,50)\n",
    "\n",
    "# Calling displayComplex() function\n",
    "# Output: 40 + 50j\n",
    "cmplx1.displayComplex()"
   ]
  },
  {
   "cell_type": "code",
   "execution_count": 4,
   "metadata": {},
   "outputs": [
    {
     "name": "stdout",
     "output_type": "stream",
     "text": [
      "MyComplexNumber constructor executing...\n",
      "(60, 70, 80)\n"
     ]
    }
   ],
   "source": [
    "# Create another object against MyComplexNumber class\n",
    "# and create a new attribute 'new_attribute'\n",
    "cmplx2 = MyComplexNumber(60,70)\n",
    "cmplx2.new_attribute = 80\n",
    "\n",
    "# Output: (60, 70, 80)\n",
    "print((cmplx2.real_part, cmplx2.imag_part, cmplx2.new_attribute))"
   ]
  },
  {
   "cell_type": "code",
   "execution_count": 5,
   "metadata": {},
   "outputs": [
    {
     "ename": "AttributeError",
     "evalue": "'MyComplexNumber' object has no attribute 'new_attribute'",
     "output_type": "error",
     "traceback": [
      "\u001b[1;31m---------------------------------------------------------------------------\u001b[0m",
      "\u001b[1;31mAttributeError\u001b[0m                            Traceback (most recent call last)",
      "\u001b[1;32m~\\AppData\\Local\\Temp/ipykernel_11396/536622657.py\u001b[0m in \u001b[0;36m<module>\u001b[1;34m\u001b[0m\n\u001b[0;32m      1\u001b[0m \u001b[1;31m# But cmplx1 object doesn't have attribute 'new_attribute'\u001b[0m\u001b[1;33m\u001b[0m\u001b[1;33m\u001b[0m\u001b[0m\n\u001b[0;32m      2\u001b[0m \u001b[1;31m# AttributeError: 'MyComplexNumber' object has no attribute 'new_attribute'\u001b[0m\u001b[1;33m\u001b[0m\u001b[1;33m\u001b[0m\u001b[0m\n\u001b[1;32m----> 3\u001b[1;33m \u001b[0mcmplx1\u001b[0m\u001b[1;33m.\u001b[0m\u001b[0mnew_attribute\u001b[0m\u001b[1;33m\u001b[0m\u001b[1;33m\u001b[0m\u001b[0m\n\u001b[0m",
      "\u001b[1;31mAttributeError\u001b[0m: 'MyComplexNumber' object has no attribute 'new_attribute'"
     ]
    }
   ],
   "source": [
    "# But cmplx1 object doesn't have attribute 'new_attribute'\n",
    "# AttributeError: 'MyComplexNumber' object has no attribute 'new_attribute'\n",
    "cmplx1.new_attribute"
   ]
  },
  {
   "cell_type": "code",
   "execution_count": null,
   "metadata": {},
   "outputs": [
    {
     "name": "stdout",
     "output_type": "stream",
     "text": [
      "<__main__.MyComplexNumber object at 0x00000270FFB22D90>\n"
     ]
    },
    {
     "ename": "NameError",
     "evalue": "name 'cmplx1' is not defined",
     "output_type": "error",
     "traceback": [
      "\u001b[1;31m---------------------------------------------------------------------------\u001b[0m",
      "\u001b[1;31mNameError\u001b[0m                                 Traceback (most recent call last)",
      "\u001b[1;32m<ipython-input-5-943453099c23>\u001b[0m in \u001b[0;36m<module>\u001b[1;34m\u001b[0m\n\u001b[0;32m      4\u001b[0m \u001b[1;32mdel\u001b[0m \u001b[0mcmplx1\u001b[0m\u001b[1;33m\u001b[0m\u001b[1;33m\u001b[0m\u001b[0m\n\u001b[0;32m      5\u001b[0m \u001b[1;33m\u001b[0m\u001b[0m\n\u001b[1;32m----> 6\u001b[1;33m \u001b[0mprint\u001b[0m\u001b[1;33m(\u001b[0m\u001b[0mcmplx1\u001b[0m\u001b[1;33m)\u001b[0m\u001b[1;33m\u001b[0m\u001b[1;33m\u001b[0m\u001b[0m\n\u001b[0m",
      "\u001b[1;31mNameError\u001b[0m: name 'cmplx1' is not defined"
     ]
    }
   ],
   "source": [
    "# Deleting object attributes and the object\n",
    "print(cmplx1)\n",
    "del cmplx1.real_part\n",
    "del cmplx1\n",
    "\n",
    "print(cmplx1)"
   ]
  }
 ],
 "metadata": {
  "interpreter": {
   "hash": "dff5493087bde6a678021bf5e7173cabfe444da53dffdf9170f4c92aadd59795"
  },
  "kernelspec": {
   "display_name": "Python 3.8.8 64-bit ('base': conda)",
   "language": "python",
   "name": "python3"
  },
  "language_info": {
   "codemirror_mode": {
    "name": "ipython",
    "version": 3
   },
   "file_extension": ".py",
   "mimetype": "text/x-python",
   "name": "python",
   "nbconvert_exporter": "python",
   "pygments_lexer": "ipython3",
   "version": "3.9.7"
  },
  "orig_nbformat": 4
 },
 "nbformat": 4,
 "nbformat_minor": 2
}
